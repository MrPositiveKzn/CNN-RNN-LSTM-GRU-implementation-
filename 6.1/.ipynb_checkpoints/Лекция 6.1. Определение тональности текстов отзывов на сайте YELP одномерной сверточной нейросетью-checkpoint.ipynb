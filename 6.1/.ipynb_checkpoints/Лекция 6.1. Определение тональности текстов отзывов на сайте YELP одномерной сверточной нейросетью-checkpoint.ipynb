{
 "cells": [
  {
   "cell_type": "markdown",
   "metadata": {
    "id": "K-BAqDEY4ldv"
   },
   "source": [
    "## Определение тональности текстов отзывов на сайте [YELP](https://www.yelp.com/dataset) одномерной сверточной нейросетью\n",
    "\n",
    "\n",
    "Чтобы запускать и редактировать код, сохраните копию этого ноутбука себе (Файл -> Создать копию на Диске). Свою копию вы сможете изменять и запускать.\n",
    "\n",
    "Не забудьте подключить GPU, чтобы сеть обучалась быстрее (Среда выполнения -> Сменить среду выполнение -> Аппаратный ускоритель -> GPU).\n",
    "\n"
   ]
  },
  {
   "cell_type": "code",
   "execution_count": 1,
   "metadata": {
    "id": "fN251ib04idq"
   },
   "outputs": [],
   "source": [
    "from tensorflow.keras.models import Sequential\n",
    "from tensorflow.keras.layers import Dense, Embedding, MaxPooling1D, Conv1D, GlobalMaxPooling1D, Dropout\n",
    "from tensorflow.keras import utils\n",
    "from tensorflow.keras.preprocessing.sequence import pad_sequences\n",
    "from tensorflow.keras.preprocessing.text import Tokenizer\n",
    "from tensorflow.keras.callbacks import ModelCheckpoint\n",
    "import pandas as pd\n",
    "import numpy as np\n",
    "import matplotlib.pyplot as plt\n",
    "%matplotlib inline"
   ]
  },
  {
   "cell_type": "code",
   "execution_count": 2,
   "metadata": {
    "id": "KVUY1PF0L_mF"
   },
   "outputs": [],
   "source": [
    "num_words = 10000\n",
    "max_review_len = 100"
   ]
  },
  {
   "cell_type": "markdown",
   "metadata": {
    "id": "S6itvI2G5H1k"
   },
   "source": [
    "## Загрузка набора данных"
   ]
  },
  {
   "cell_type": "code",
   "execution_count": 3,
   "metadata": {
    "colab": {
     "base_uri": "https://localhost:8080/"
    },
    "executionInfo": {
     "elapsed": 3062,
     "status": "ok",
     "timestamp": 1685185713747,
     "user": {
      "displayName": "Andrey Sozykin",
      "userId": "18170979864079203851"
     },
     "user_tz": -180
    },
    "id": "TYf3S7he5KIU",
    "outputId": "b96fbbcc-d306-4bcc-915f-700de6715edc"
   },
   "outputs": [
    {
     "name": "stdout",
     "output_type": "stream",
     "text": [
      "zsh:1: no matches found: https://www.dropbox.com/s/ufbhk3kadtnn6h0/yelp_review_polarity_csv.tgz?dl=1\r\n"
     ]
    }
   ],
   "source": [
    "!wget https://www.dropbox.com/s/ufbhk3kadtnn6h0/yelp_review_polarity_csv.tgz?dl=1 -O yelp_review_polarity_csv.tgz"
   ]
  },
  {
   "cell_type": "code",
   "execution_count": 3,
   "metadata": {
    "colab": {
     "base_uri": "https://localhost:8080/"
    },
    "executionInfo": {
     "elapsed": 4166,
     "status": "ok",
     "timestamp": 1685185721296,
     "user": {
      "displayName": "Andrey Sozykin",
      "userId": "18170979864079203851"
     },
     "user_tz": -180
    },
    "id": "RH95SEXB5R0V",
    "outputId": "c5cc44fb-2434-475b-9bb6-aab571c9f617"
   },
   "outputs": [],
   "source": [
    "!tar -xvf yelp_review_polarity_csv.tgz"
   ]
  },
  {
   "cell_type": "markdown",
   "metadata": {
    "id": "131Gk9fzGVMg"
   },
   "source": [
    "## Просматриваем данные"
   ]
  },
  {
   "cell_type": "code",
   "execution_count": 4,
   "metadata": {
    "colab": {
     "base_uri": "https://localhost:8080/"
    },
    "executionInfo": {
     "elapsed": 18,
     "status": "ok",
     "timestamp": 1684565814911,
     "user": {
      "displayName": "Andrey Sozykin",
      "userId": "18170979864079203851"
     },
     "user_tz": -180
    },
    "id": "uRj7M24mGRmH",
    "outputId": "50c22090-9b23-48c3-c8e5-a4dae65b6611"
   },
   "outputs": [],
   "source": [
    "!cat yelp_review_polarity_csv/readme.txt"
   ]
  },
  {
   "cell_type": "code",
   "execution_count": 5,
   "metadata": {
    "colab": {
     "base_uri": "https://localhost:8080/"
    },
    "executionInfo": {
     "elapsed": 15,
     "status": "ok",
     "timestamp": 1684565814912,
     "user": {
      "displayName": "Andrey Sozykin",
      "userId": "18170979864079203851"
     },
     "user_tz": -180
    },
    "id": "k6_oiP9NGlI2",
    "outputId": "69c60651-25d9-455c-aefc-899ee9b06a7e"
   },
   "outputs": [],
   "source": [
    "!head yelp_review_polarity_csv/train.csv"
   ]
  },
  {
   "cell_type": "code",
   "execution_count": 6,
   "metadata": {
    "colab": {
     "base_uri": "https://localhost:8080/"
    },
    "executionInfo": {
     "elapsed": 672,
     "status": "ok",
     "timestamp": 1684565815571,
     "user": {
      "displayName": "Andrey Sozykin",
      "userId": "18170979864079203851"
     },
     "user_tz": -180
    },
    "id": "QbfciZAYHNBb",
    "outputId": "a4fca2bc-9405-4b82-8938-7d1449b65037"
   },
   "outputs": [],
   "source": [
    "!head yelp_review_polarity_csv/test.csv"
   ]
  },
  {
   "cell_type": "code",
   "execution_count": 7,
   "metadata": {
    "colab": {
     "base_uri": "https://localhost:8080/"
    },
    "executionInfo": {
     "elapsed": 5,
     "status": "ok",
     "timestamp": 1684565815571,
     "user": {
      "displayName": "Andrey Sozykin",
      "userId": "18170979864079203851"
     },
     "user_tz": -180
    },
    "id": "QHiCXhsTG835",
    "outputId": "11030dad-4645-4b5b-8369-fc105184478e"
   },
   "outputs": [],
   "source": [
    "!wc -l yelp_review_polarity_csv/train.csv\n",
    "!wc -l yelp_review_polarity_csv/test.csv"
   ]
  },
  {
   "cell_type": "markdown",
   "metadata": {
    "id": "9YjyMnJOHoSY"
   },
   "source": [
    "## Загружаем данные в память"
   ]
  },
  {
   "cell_type": "markdown",
   "metadata": {
    "id": "C6Hs3NIKKqEB"
   },
   "source": [
    "Читаем данные из файла"
   ]
  },
  {
   "cell_type": "code",
   "execution_count": null,
   "metadata": {
    "id": "viAteYU0HakW",
    "scrolled": true
   },
   "outputs": [],
   "source": [
    "train = pd.read_csv('yelp_review_polarity_csv/train.csv',\n",
    "                    header=None,\n",
    "                    names=['Class', 'Review'])"
   ]
  },
  {
   "cell_type": "code",
   "execution_count": null,
   "metadata": {
    "colab": {
     "base_uri": "https://localhost:8080/",
     "height": 423
    },
    "executionInfo": {
     "elapsed": 241,
     "status": "ok",
     "timestamp": 1685185743172,
     "user": {
      "displayName": "Andrey Sozykin",
      "userId": "18170979864079203851"
     },
     "user_tz": -180
    },
    "id": "QTbvoCJxKpdr",
    "outputId": "3052a5da-b41a-4302-dbda-7bede8e907d1"
   },
   "outputs": [],
   "source": [
    "train"
   ]
  },
  {
   "cell_type": "markdown",
   "metadata": {
    "id": "gA0GvoWDKulp"
   },
   "source": [
    "Выделяем данные для обучения"
   ]
  },
  {
   "cell_type": "code",
   "execution_count": null,
   "metadata": {
    "id": "xKdpzAQKLUsh"
   },
   "outputs": [],
   "source": [
    "reviews = train['Review']"
   ]
  },
  {
   "cell_type": "code",
   "execution_count": null,
   "metadata": {
    "colab": {
     "base_uri": "https://localhost:8080/"
    },
    "executionInfo": {
     "elapsed": 2,
     "status": "ok",
     "timestamp": 1685185749057,
     "user": {
      "displayName": "Andrey Sozykin",
      "userId": "18170979864079203851"
     },
     "user_tz": -180
    },
    "id": "3-13xctTLesU",
    "outputId": "726f43be-b498-4620-9cd9-d2c27fd09057"
   },
   "outputs": [],
   "source": [
    "reviews[:5]"
   ]
  },
  {
   "cell_type": "markdown",
   "metadata": {
    "id": "EyruZkQeLnPa"
   },
   "source": [
    "Выделяем правильные ответы"
   ]
  },
  {
   "cell_type": "code",
   "execution_count": null,
   "metadata": {
    "id": "5t_vJBSyIUoG"
   },
   "outputs": [],
   "source": [
    "y_train = train['Class'] - 1"
   ]
  },
  {
   "cell_type": "code",
   "execution_count": null,
   "metadata": {
    "colab": {
     "base_uri": "https://localhost:8080/"
    },
    "executionInfo": {
     "elapsed": 1,
     "status": "ok",
     "timestamp": 1685185753145,
     "user": {
      "displayName": "Andrey Sozykin",
      "userId": "18170979864079203851"
     },
     "user_tz": -180
    },
    "id": "gmEgMdF5IbZR",
    "outputId": "52d5af69-28cb-454c-8554-92f003121821"
   },
   "outputs": [],
   "source": [
    "y_train"
   ]
  },
  {
   "cell_type": "markdown",
   "metadata": {
    "id": "7JuLOCqpLsNL"
   },
   "source": [
    "## Токенизация текста"
   ]
  },
  {
   "cell_type": "code",
   "execution_count": null,
   "metadata": {
    "colab": {
     "base_uri": "https://localhost:8080/"
    },
    "executionInfo": {
     "elapsed": 239,
     "status": "ok",
     "timestamp": 1685185756280,
     "user": {
      "displayName": "Andrey Sozykin",
      "userId": "18170979864079203851"
     },
     "user_tz": -180
    },
    "id": "wwF89PAestv0",
    "outputId": "9b31e381-3aa5-4d22-b07c-fa81b89e2fd1"
   },
   "outputs": [],
   "source": [
    "reviews[:5]"
   ]
  },
  {
   "cell_type": "markdown",
   "metadata": {
    "id": "DTtBSvAfMusM"
   },
   "source": [
    "Создаем токенизатор Keras"
   ]
  },
  {
   "cell_type": "code",
   "execution_count": null,
   "metadata": {
    "id": "x-AUMyjMLw5T"
   },
   "outputs": [],
   "source": [
    "tokenizer = Tokenizer(num_words=num_words)"
   ]
  },
  {
   "cell_type": "markdown",
   "metadata": {
    "id": "VIxY2pp-M2gw"
   },
   "source": [
    "Обучаем токенизатор на отзывах Yelp"
   ]
  },
  {
   "cell_type": "code",
   "execution_count": null,
   "metadata": {
    "id": "RfsqlGJZM7HR"
   },
   "outputs": [],
   "source": [
    "tokenizer.fit_on_texts(reviews)"
   ]
  },
  {
   "cell_type": "markdown",
   "metadata": {
    "id": "y6PqC28PND82"
   },
   "source": [
    "Просматриваем словарь токенизатора"
   ]
  },
  {
   "cell_type": "code",
   "execution_count": null,
   "metadata": {
    "colab": {
     "base_uri": "https://localhost:8080/"
    },
    "executionInfo": {
     "elapsed": 315,
     "status": "ok",
     "timestamp": 1685185814424,
     "user": {
      "displayName": "Andrey Sozykin",
      "userId": "18170979864079203851"
     },
     "user_tz": -180
    },
    "id": "8mWcH0mUMcMU",
    "outputId": "efa8f3bb-80f7-4d4c-b39c-c995edf6fda1"
   },
   "outputs": [],
   "source": [
    "tokenizer.word_index"
   ]
  },
  {
   "cell_type": "markdown",
   "metadata": {
    "id": "s_nyPsVLNW-f"
   },
   "source": [
    "Преобразуем отзывы Yelp в числовое представление"
   ]
  },
  {
   "cell_type": "code",
   "execution_count": null,
   "metadata": {
    "id": "bMZ6e-zEJHr1"
   },
   "outputs": [],
   "source": [
    "sequences = tokenizer.texts_to_sequences(reviews)"
   ]
  },
  {
   "cell_type": "markdown",
   "metadata": {
    "id": "aZ_NJ2SlNwMI"
   },
   "source": [
    "Просматриваем отзывы в числовом представлении"
   ]
  },
  {
   "cell_type": "code",
   "execution_count": null,
   "metadata": {
    "colab": {
     "base_uri": "https://localhost:8080/"
    },
    "executionInfo": {
     "elapsed": 213,
     "status": "ok",
     "timestamp": 1685185876317,
     "user": {
      "displayName": "Andrey Sozykin",
      "userId": "18170979864079203851"
     },
     "user_tz": -180
    },
    "id": "xIUJvjguN0S0",
    "outputId": "e69fc5d5-16e3-48f8-ae21-1729c2294015"
   },
   "outputs": [],
   "source": [
    "index = 100\n",
    "print(reviews[index])\n",
    "print(sequences[index])"
   ]
  },
  {
   "cell_type": "code",
   "execution_count": null,
   "metadata": {
    "colab": {
     "base_uri": "https://localhost:8080/"
    },
    "executionInfo": {
     "elapsed": 306,
     "status": "ok",
     "timestamp": 1685185878056,
     "user": {
      "displayName": "Andrey Sozykin",
      "userId": "18170979864079203851"
     },
     "user_tz": -180
    },
    "id": "sQn0O5kBtmyJ",
    "outputId": "3b3f51ab-71ce-4e77-ba44-bb0e78d2536b"
   },
   "outputs": [],
   "source": [
    "tokenizer.word_index['in']"
   ]
  },
  {
   "cell_type": "markdown",
   "metadata": {
    "id": "neSZfrw3OYPx"
   },
   "source": [
    "Ограничиваем длину отзывов"
   ]
  },
  {
   "cell_type": "code",
   "execution_count": null,
   "metadata": {
    "id": "ZGLpcETkN3ex"
   },
   "outputs": [],
   "source": [
    "x_train = pad_sequences(sequences, maxlen=max_review_len)"
   ]
  },
  {
   "cell_type": "code",
   "execution_count": null,
   "metadata": {
    "colab": {
     "base_uri": "https://localhost:8080/"
    },
    "executionInfo": {
     "elapsed": 218,
     "status": "ok",
     "timestamp": 1685185885459,
     "user": {
      "displayName": "Andrey Sozykin",
      "userId": "18170979864079203851"
     },
     "user_tz": -180
    },
    "id": "mPW1VACmOrrm",
    "outputId": "3b76b0d5-f157-4bb4-825b-017ead1701fd"
   },
   "outputs": [],
   "source": [
    "x_train[:5]"
   ]
  },
  {
   "cell_type": "markdown",
   "metadata": {
    "id": "ypBYfEwvO0c4"
   },
   "source": [
    "## Создаем нейронную сеть"
   ]
  },
  {
   "cell_type": "code",
   "execution_count": null,
   "metadata": {
    "id": "8ETORhRkOtIn"
   },
   "outputs": [],
   "source": [
    "model = Sequential()\n",
    "model.add(Embedding(num_words, 64, input_length=max_review_len))\n",
    "model.add(Conv1D(250, 5, padding='valid', activation='relu'))\n",
    "model.add(GlobalMaxPooling1D())\n",
    "model.add(Dense(128, activation='relu'))\n",
    "model.add(Dropout(0.2))\n",
    "model.add(Dense(1, activation='sigmoid'))"
   ]
  },
  {
   "cell_type": "code",
   "execution_count": null,
   "metadata": {
    "id": "rzds0iUgPLwS"
   },
   "outputs": [],
   "source": [
    "model.compile(optimizer='adam',\n",
    "              loss='binary_crossentropy',\n",
    "              metrics=['accuracy'])"
   ]
  },
  {
   "cell_type": "code",
   "execution_count": null,
   "metadata": {
    "colab": {
     "base_uri": "https://localhost:8080/"
    },
    "executionInfo": {
     "elapsed": 219,
     "status": "ok",
     "timestamp": 1685186041567,
     "user": {
      "displayName": "Andrey Sozykin",
      "userId": "18170979864079203851"
     },
     "user_tz": -180
    },
    "id": "QpWLAkRtaxZf",
    "outputId": "eeb3dff7-3b80-46e2-c3c9-68640540ad3d"
   },
   "outputs": [],
   "source": [
    "model.summary()"
   ]
  },
  {
   "cell_type": "markdown",
   "metadata": {
    "id": "qf4f6-skPPsb"
   },
   "source": [
    "## Обучаем нейронную сеть"
   ]
  },
  {
   "cell_type": "code",
   "execution_count": null,
   "metadata": {
    "colab": {
     "base_uri": "https://localhost:8080/"
    },
    "executionInfo": {
     "elapsed": 263060,
     "status": "ok",
     "timestamp": 1685186307966,
     "user": {
      "displayName": "Andrey Sozykin",
      "userId": "18170979864079203851"
     },
     "user_tz": -180
    },
    "id": "3RjBsU8_PSqp",
    "outputId": "40832001-d74a-4df8-b350-3423d99fabb6"
   },
   "outputs": [],
   "source": [
    "history = model.fit(x_train,\n",
    "                    y_train,\n",
    "                    epochs=4,\n",
    "                    batch_size=128,\n",
    "                    validation_split=0.1)"
   ]
  },
  {
   "cell_type": "code",
   "execution_count": null,
   "metadata": {
    "colab": {
     "base_uri": "https://localhost:8080/",
     "height": 449
    },
    "executionInfo": {
     "elapsed": 822,
     "status": "ok",
     "timestamp": 1685186308779,
     "user": {
      "displayName": "Andrey Sozykin",
      "userId": "18170979864079203851"
     },
     "user_tz": -180
    },
    "id": "D87iUZmNP0rk",
    "outputId": "37c3db63-a961-4656-ef2a-040cc1fe708f"
   },
   "outputs": [],
   "source": [
    "plt.plot(history.history['accuracy'],\n",
    "         label='Доля верных ответов на обучающем наборе')\n",
    "plt.plot(history.history['val_accuracy'],\n",
    "         label='Доля верных ответов на проверочном наборе')\n",
    "plt.xlabel('Эпоха обучения')\n",
    "plt.ylabel('Доля верных ответов')\n",
    "plt.legend()\n",
    "plt.show()"
   ]
  },
  {
   "cell_type": "markdown",
   "metadata": {
    "id": "Ma51nugyR5Ct"
   },
   "source": [
    "## Загружаем набор данных для тестирования"
   ]
  },
  {
   "cell_type": "code",
   "execution_count": null,
   "metadata": {
    "id": "0OQ9iHYWYJ7G"
   },
   "outputs": [],
   "source": [
    "test = pd.read_csv('yelp_review_polarity_csv/test.csv',\n",
    "                    header=None,\n",
    "                    names=['Class', 'Review'])"
   ]
  },
  {
   "cell_type": "code",
   "execution_count": null,
   "metadata": {
    "colab": {
     "base_uri": "https://localhost:8080/"
    },
    "executionInfo": {
     "elapsed": 4,
     "status": "ok",
     "timestamp": 1684566170047,
     "user": {
      "displayName": "Andrey Sozykin",
      "userId": "18170979864079203851"
     },
     "user_tz": -180
    },
    "id": "4W8Exe9nYYC6",
    "outputId": "da49ddb0-652a-4b31-df01-bedbd8ca2e64"
   },
   "outputs": [],
   "source": [
    "test"
   ]
  },
  {
   "cell_type": "markdown",
   "metadata": {
    "id": "xgEjSpX5biaJ"
   },
   "source": [
    "Преобразуем отзывы в числовое представление\n",
    "\n",
    "Обратите внимание, что нужно использовать токенизатор, обученный на наборе данных train."
   ]
  },
  {
   "cell_type": "code",
   "execution_count": null,
   "metadata": {
    "id": "wE8JtIgybvLx"
   },
   "outputs": [],
   "source": [
    "test_sequences = tokenizer.texts_to_sequences(test['Review'])"
   ]
  },
  {
   "cell_type": "code",
   "execution_count": null,
   "metadata": {
    "id": "haKQPtc-byBf"
   },
   "outputs": [],
   "source": [
    "x_test = pad_sequences(test_sequences, maxlen=max_review_len)"
   ]
  },
  {
   "cell_type": "code",
   "execution_count": null,
   "metadata": {
    "colab": {
     "base_uri": "https://localhost:8080/"
    },
    "executionInfo": {
     "elapsed": 246,
     "status": "ok",
     "timestamp": 1685186348853,
     "user": {
      "displayName": "Andrey Sozykin",
      "userId": "18170979864079203851"
     },
     "user_tz": -180
    },
    "id": "LQsqVZedb-Qf",
    "outputId": "e26accb8-9e9f-4cea-d975-094cd9b5aabf"
   },
   "outputs": [],
   "source": [
    "x_test[:5]"
   ]
  },
  {
   "cell_type": "markdown",
   "metadata": {
    "id": "afswW4zVcPfT"
   },
   "source": [
    "Правильные ответы"
   ]
  },
  {
   "cell_type": "code",
   "execution_count": null,
   "metadata": {
    "id": "tsdQdcvBcFsv"
   },
   "outputs": [],
   "source": [
    "y_test = test['Class'] - 1"
   ]
  },
  {
   "cell_type": "code",
   "execution_count": null,
   "metadata": {
    "colab": {
     "base_uri": "https://localhost:8080/"
    },
    "executionInfo": {
     "elapsed": 2,
     "status": "ok",
     "timestamp": 1685186354809,
     "user": {
      "displayName": "Andrey Sozykin",
      "userId": "18170979864079203851"
     },
     "user_tz": -180
    },
    "id": "86TiWSg8cYkI",
    "outputId": "36dd794b-b544-4ee5-8f52-e1140238c0f2"
   },
   "outputs": [],
   "source": [
    "y_test"
   ]
  },
  {
   "cell_type": "markdown",
   "metadata": {
    "id": "3DJbzO3ucewV"
   },
   "source": [
    "## Оцениваем качество работы сети на тестовом наборе данных"
   ]
  },
  {
   "cell_type": "code",
   "execution_count": null,
   "metadata": {
    "colab": {
     "base_uri": "https://localhost:8080/"
    },
    "executionInfo": {
     "elapsed": 3848,
     "status": "ok",
     "timestamp": 1685186360392,
     "user": {
      "displayName": "Andrey Sozykin",
      "userId": "18170979864079203851"
     },
     "user_tz": -180
    },
    "id": "MkFvNfFPcaPX",
    "outputId": "a2d3bc67-5b6e-40ca-d85b-138f7bb7120a"
   },
   "outputs": [],
   "source": [
    "model.evaluate(x_test, y_test, verbose=1)"
   ]
  },
  {
   "cell_type": "markdown",
   "metadata": {
    "id": "_rpc1SbSdZJi"
   },
   "source": [
    "## Оцениваем тональность на собственном отзыве"
   ]
  },
  {
   "cell_type": "code",
   "execution_count": null,
   "metadata": {
    "id": "E7mb_GYadd_a"
   },
   "outputs": [],
   "source": [
    "text = '''The SmartBurger restaurant is awful. It’s a small shabby place.\n",
    "The food is really bad and very expensive.  The host and waiters are rud.\n",
    "I will never visit the SmartBurger again!\n",
    "'''"
   ]
  },
  {
   "cell_type": "code",
   "execution_count": null,
   "metadata": {
    "id": "g_YUdpNWcv8x"
   },
   "outputs": [],
   "source": [
    "sequence = tokenizer.texts_to_sequences([text])"
   ]
  },
  {
   "cell_type": "code",
   "execution_count": null,
   "metadata": {
    "colab": {
     "base_uri": "https://localhost:8080/"
    },
    "executionInfo": {
     "elapsed": 19,
     "status": "ok",
     "timestamp": 1684566177818,
     "user": {
      "displayName": "Andrey Sozykin",
      "userId": "18170979864079203851"
     },
     "user_tz": -180
    },
    "id": "wyYO190ffF4n",
    "outputId": "8fd850d9-dcc6-499e-e91c-242cfe1b33c1"
   },
   "outputs": [],
   "source": [
    "sequence"
   ]
  },
  {
   "cell_type": "code",
   "execution_count": null,
   "metadata": {
    "id": "uKWdH2qKfIdG"
   },
   "outputs": [],
   "source": [
    "data = pad_sequences(sequence, maxlen=max_review_len)"
   ]
  },
  {
   "cell_type": "code",
   "execution_count": null,
   "metadata": {
    "colab": {
     "base_uri": "https://localhost:8080/"
    },
    "executionInfo": {
     "elapsed": 17,
     "status": "ok",
     "timestamp": 1684566177819,
     "user": {
      "displayName": "Andrey Sozykin",
      "userId": "18170979864079203851"
     },
     "user_tz": -180
    },
    "id": "skYUSk6CfeHs",
    "outputId": "c2d9c068-0838-4b44-99b6-19283b88aaa3"
   },
   "outputs": [],
   "source": [
    "data"
   ]
  },
  {
   "cell_type": "code",
   "execution_count": null,
   "metadata": {
    "colab": {
     "base_uri": "https://localhost:8080/"
    },
    "executionInfo": {
     "elapsed": 15,
     "status": "ok",
     "timestamp": 1684566177819,
     "user": {
      "displayName": "Andrey Sozykin",
      "userId": "18170979864079203851"
     },
     "user_tz": -180
    },
    "id": "K_VBdXOlffK2",
    "outputId": "a4eb9b03-9720-412e-de01-5d167d4b72e5"
   },
   "outputs": [],
   "source": [
    "result = model.predict(data)"
   ]
  },
  {
   "cell_type": "code",
   "execution_count": null,
   "metadata": {
    "colab": {
     "base_uri": "https://localhost:8080/"
    },
    "executionInfo": {
     "elapsed": 13,
     "status": "ok",
     "timestamp": 1684566177819,
     "user": {
      "displayName": "Andrey Sozykin",
      "userId": "18170979864079203851"
     },
     "user_tz": -180
    },
    "id": "yFC6W_dLfpzU",
    "outputId": "682679ec-f198-4e77-9b1f-b8a73736d375"
   },
   "outputs": [],
   "source": [
    "result"
   ]
  },
  {
   "cell_type": "code",
   "execution_count": null,
   "metadata": {
    "colab": {
     "base_uri": "https://localhost:8080/"
    },
    "executionInfo": {
     "elapsed": 12,
     "status": "ok",
     "timestamp": 1684566177819,
     "user": {
      "displayName": "Andrey Sozykin",
      "userId": "18170979864079203851"
     },
     "user_tz": -180
    },
    "id": "TbLvIXs6frqY",
    "outputId": "c33e7db9-5add-4350-b6eb-aa942521e0ff"
   },
   "outputs": [],
   "source": [
    "if result < 0.5:\n",
    "    print('Отзыв отрицательный')\n",
    "else:\n",
    "    print('Отзыв положительный')\n"
   ]
  },
  {
   "cell_type": "markdown",
   "metadata": {
    "id": "5lkKDy7_ung1"
   },
   "source": [
    "## Задания для самостоятельной работы\n",
    "\n",
    "Меняйте гиперпараметры нейросети, чтобы повысить качество работы:\n",
    "  - Длину окна свертки (поробуйте 3, 5, 7 и 9).\n",
    "  - Количество карт признаков в сверточном слое.\n",
    "  - Длину вектора представления слов в слое Embedding.\n",
    "  - Количество сверточных слоев.\n",
    "  - Количествой нейронов в полносвязном слое для классификации.\n",
    "  - Параметр Dropout\n",
    "  - Тип оптимизатора (`adam`, `rmsprop` и др.)\n",
    "  - Количество эпох обучения.\n",
    "  - Рармер мини-выборки.\n",
    "\n"
   ]
  }
 ],
 "metadata": {
  "accelerator": "GPU",
  "colab": {
   "provenance": [
    {
     "file_id": "1KWS-4MKKOIG7UhiCA58ZJcxwSLG5F6Wm",
     "timestamp": 1692555201051
    },
    {
     "file_id": "19olgYyZ4N5fh8RIPtHxkso2N5HD1yg0X",
     "timestamp": 1579338582121
    }
   ]
  },
  "kernelspec": {
   "display_name": "Python 3 (ipykernel)",
   "language": "python",
   "name": "python3"
  },
  "language_info": {
   "codemirror_mode": {
    "name": "ipython",
    "version": 3
   },
   "file_extension": ".py",
   "mimetype": "text/x-python",
   "name": "python",
   "nbconvert_exporter": "python",
   "pygments_lexer": "ipython3",
   "version": "3.11.6"
  }
 },
 "nbformat": 4,
 "nbformat_minor": 1
}
