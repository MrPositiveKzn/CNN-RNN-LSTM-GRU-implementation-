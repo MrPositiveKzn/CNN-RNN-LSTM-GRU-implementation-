{
 "cells": [
  {
   "cell_type": "markdown",
   "metadata": {
    "id": "K-BAqDEY4ldv"
   },
   "source": [
    "## Определение тональности текстов отзывов на сайте [YELP](https://www.yelp.com/dataset) одномерной сверточной нейросетью\n",
    "\n",
    "\n",
    "Чтобы запускать и редактировать код, сохраните копию этого ноутбука себе (Файл -> Создать копию на Диске). Свою копию вы сможете изменять и запускать.\n",
    "\n",
    "Не забудьте подключить GPU, чтобы сеть обучалась быстрее (Среда выполнения -> Сменить среду выполнение -> Аппаратный ускоритель -> GPU).\n",
    "\n"
   ]
  },
  {
   "cell_type": "code",
   "execution_count": 1,
   "metadata": {
    "id": "fN251ib04idq"
   },
   "outputs": [
    {
     "name": "stderr",
     "output_type": "stream",
     "text": [
      "2023-11-14 17:06:52.017787: I tensorflow/tsl/cuda/cudart_stub.cc:28] Could not find cuda drivers on your machine, GPU will not be used.\n",
      "2023-11-14 17:06:52.158945: I tensorflow/tsl/cuda/cudart_stub.cc:28] Could not find cuda drivers on your machine, GPU will not be used.\n",
      "2023-11-14 17:06:52.162651: I tensorflow/core/platform/cpu_feature_guard.cc:182] This TensorFlow binary is optimized to use available CPU instructions in performance-critical operations.\n",
      "To enable the following instructions: AVX2 FMA, in other operations, rebuild TensorFlow with the appropriate compiler flags.\n",
      "2023-11-14 17:06:55.626994: W tensorflow/compiler/tf2tensorrt/utils/py_utils.cc:38] TF-TRT Warning: Could not find TensorRT\n"
     ]
    }
   ],
   "source": [
    "from tensorflow.keras.models import Sequential\n",
    "from tensorflow.keras.layers import Dense, Embedding, MaxPooling1D, Conv1D, GlobalMaxPooling1D, Dropout\n",
    "from tensorflow.keras import utils\n",
    "from tensorflow.keras.preprocessing.sequence import pad_sequences\n",
    "from tensorflow.keras.preprocessing.text import Tokenizer\n",
    "from tensorflow.keras.callbacks import ModelCheckpoint\n",
    "import pandas as pd\n",
    "import numpy as np\n",
    "import matplotlib.pyplot as plt\n",
    "%matplotlib inline"
   ]
  },
  {
   "cell_type": "code",
   "execution_count": 2,
   "metadata": {
    "id": "KVUY1PF0L_mF"
   },
   "outputs": [],
   "source": [
    "num_words = 10000\n",
    "max_review_len = 100"
   ]
  },
  {
   "cell_type": "markdown",
   "metadata": {
    "id": "S6itvI2G5H1k"
   },
   "source": [
    "## Загрузка набора данных"
   ]
  },
  {
   "cell_type": "code",
   "execution_count": null,
   "metadata": {
    "colab": {
     "base_uri": "https://localhost:8080/"
    },
    "executionInfo": {
     "elapsed": 3062,
     "status": "ok",
     "timestamp": 1685185713747,
     "user": {
      "displayName": "Andrey Sozykin",
      "userId": "18170979864079203851"
     },
     "user_tz": -180
    },
    "id": "TYf3S7he5KIU",
    "outputId": "b96fbbcc-d306-4bcc-915f-700de6715edc"
   },
   "outputs": [],
   "source": [
    "!wget https://www.dropbox.com/s/ufbhk3kadtnn6h0/yelp_review_polarity_csv.tgz?dl=1 -O yelp_review_polarity_csv.tgz"
   ]
  },
  {
   "cell_type": "code",
   "execution_count": null,
   "metadata": {
    "colab": {
     "base_uri": "https://localhost:8080/"
    },
    "executionInfo": {
     "elapsed": 4166,
     "status": "ok",
     "timestamp": 1685185721296,
     "user": {
      "displayName": "Andrey Sozykin",
      "userId": "18170979864079203851"
     },
     "user_tz": -180
    },
    "id": "RH95SEXB5R0V",
    "outputId": "c5cc44fb-2434-475b-9bb6-aab571c9f617"
   },
   "outputs": [],
   "source": [
    "!tar -xvf yelp_review_polarity_csv.tgz"
   ]
  },
  {
   "cell_type": "markdown",
   "metadata": {
    "id": "131Gk9fzGVMg"
   },
   "source": [
    "## Просматриваем данные"
   ]
  },
  {
   "cell_type": "code",
   "execution_count": null,
   "metadata": {
    "colab": {
     "base_uri": "https://localhost:8080/"
    },
    "executionInfo": {
     "elapsed": 18,
     "status": "ok",
     "timestamp": 1684565814911,
     "user": {
      "displayName": "Andrey Sozykin",
      "userId": "18170979864079203851"
     },
     "user_tz": -180
    },
    "id": "uRj7M24mGRmH",
    "outputId": "50c22090-9b23-48c3-c8e5-a4dae65b6611"
   },
   "outputs": [],
   "source": [
    "!cat yelp_review_polarity_csv/readme.txt"
   ]
  },
  {
   "cell_type": "code",
   "execution_count": 3,
   "metadata": {
    "colab": {
     "base_uri": "https://localhost:8080/"
    },
    "executionInfo": {
     "elapsed": 15,
     "status": "ok",
     "timestamp": 1684565814912,
     "user": {
      "displayName": "Andrey Sozykin",
      "userId": "18170979864079203851"
     },
     "user_tz": -180
    },
    "id": "k6_oiP9NGlI2",
    "outputId": "69c60651-25d9-455c-aefc-899ee9b06a7e"
   },
   "outputs": [
    {
     "name": "stdout",
     "output_type": "stream",
     "text": [
      "\"1\",\"Unfortunately, the frustration of being Dr. Goldberg's patient is a repeat of the experience I've had with so many other doctors in NYC -- good doctor, terrible staff.  It seems that his staff simply never answers the phone.  It usually takes 2 hours of repeated calling to get an answer.  Who has time for that or wants to deal with it?  I have run into this problem with many other doctors and I just don't get it.  You have office workers, you have patients with medical needs, why isn't anyone answering the phone?  It's incomprehensible and not work the aggravation.  It's with regret that I feel that I have to give Dr. Goldberg 2 stars.\"\r\n",
      "\"2\",\"Been going to Dr. Goldberg for over 10 years. I think I was one of his 1st patients when he started at MHMG. He's been great over the years and is really all about the big picture. It is because of him, not my now former gyn Dr. Markoff, that I found out I have fibroids. He explores all options with you and is very patient and understanding. He doesn't judge and asks all the right questions. Very thorough and wants to be kept in the loop on every aspect of your medical health and your life.\"\r\n",
      "\"1\",\"I don't know what Dr. Goldberg was like before  moving to Arizona, but let me tell you, STAY AWAY from this doctor and this office. I was going to Dr. Johnson before he left and Goldberg took over when Johnson left. He is not a caring doctor. He is only interested in the co-pay and having you come in for medication refills every month. He will not give refills and could less about patients's financial situations. Trying to get your 90 days mail away pharmacy prescriptions through this guy is a joke. And to make matters even worse, his office staff is incompetent. 90% of the time when you call the office, they'll put you through to a voice mail, that NO ONE ever answers or returns your call. Both my adult children and husband have decided to leave this practice after experiencing such frustration. The entire office has an attitude like they are doing you a favor. Give me a break! Stay away from this doc and the practice. You deserve better and they will not be there when you really need them. I have never felt compelled to write a bad review about anyone until I met this pathetic excuse for a doctor who is all about the money.\"\r\n",
      "\"1\",\"I'm writing this review to give you a heads up before you see this Doctor. The office staff and administration are very unprofessional. I left a message with multiple people regarding my bill, and no one ever called me back. I had to hound them to get an answer about my bill. \\n\\nSecond, and most important, make sure your insurance is going to cover Dr. Goldberg's visits and blood work. He recommended to me that I get a physical, and he knew I was a student because I told him. I got the physical done. Later, I found out my health insurance doesn't pay for preventative visits. I received an $800.00 bill for the blood work. I can't pay for my bill because I'm a student and don't have any cash flow at this current time. I can't believe the Doctor wouldn't give me a heads up to make sure my insurance would cover work that wasn't necessary and was strictly preventative. The office can't do anything to help me cover the bill. In addition, the office staff said the onus is on me to make sure my insurance covers visits. Frustrating situation!\"\r\n",
      "\"2\",\"All the food is great here. But the best thing they have is their wings. Their wings are simply fantastic!!  The \\\"\"Wet Cajun\\\"\" are by the best & most popular.  I also like the seasoned salt wings.  Wing Night is Monday & Wednesday night, $0.75 whole wings!\\n\\nThe dining area is nice. Very family friendly! The bar is very nice is well.  This place is truly a Yinzer's dream!!  \\\"\"Pittsburgh Dad\\\"\" would love this place n'at!!\"\r\n",
      "\"1\",\"Wing sauce is like water. Pretty much a lot of butter and some hot sauce (franks red hot maybe).  The whole wings are good size and crispy, but for $1 a wing the sauce could be better. The hot and extra hot are about the same flavor/heat.  The fish sandwich is good and is a large portion, sides are decent.\"\r\n",
      "\"1\",\"Owning a driving range inside the city limits is like a license to print money.  I don't think I ask much out of a driving range.  Decent mats, clean balls and accessible hours.  Hell you need even less people now with the advent of the machine that doles out the balls.  This place has none of them.  It is april and there are no grass tees yet.  BTW they opened for the season this week although it has been golfing weather for a month.  The mats look like the carpet at my 107 year old aunt Irene's house.  Worn and thread bare.  Let's talk about the hours.  This place is equipped with lights yet they only sell buckets of balls until 730.  It is still light out.  Finally lets you have the pit to hit into.  When I arrived I wasn't sure if this was a driving range or an excavation site for a mastodon or a strip mining operation.  There is no grass on the range. Just mud.  Makes it a good tool to figure out how far you actually are hitting the ball.  Oh, they are cash only also.\\n\\nBottom line, this place sucks.  The best hope is that the owner sells it to someone that actually wants to make money and service golfers in Pittsburgh.\"\r\n",
      "\"1\",\"This place is absolute garbage...  Half of the tees are not available, including all the grass tees.  It is cash only, and they sell the last bucket at 8, despite having lights.  And if you finish even a minute after 8, don't plan on getting a drink.  The vending machines are sold out (of course) and they sell drinks inside, but close the drawers at 8 on the dot.  There are weeds grown all over the place.  I noticed some sort of batting cage, but it looks like those are out of order as well.  Someone should buy this place and turn it into what it should be.\"\r\n",
      "\"2\",\"Before I finally made it over to this range I heard the same thing from most people - it's just fine to go work on your swing. I had such a low expectation I was pleasantly surprised. \\n\\nIt's a fairly big range - if you are familiar with Scally's in Moon, it seems like it has almost as many tees, though its not nearly as nice a facility. \\n\\nThe guys in the pro shop were two of the friendlier guys I've come across at ranges or at courses. Yards were indeed marked and there are some targets to aim for, and even some hazards to aim away from. \\n\\nA big red flag to me was the extra charge ($3) to hit off the grass. I am no range expert, but this is the 4th one I've been to and the first I've seen of that sort of nickel and diming....\\n\\nPrice for the golf balls was reasonable and I do plan to be back every week until they close up in October for the season. Hopefully, since its for sale, it will reopen as a golf facility again.\"\r\n",
      "\"2\",\"I drove by yesterday to get a sneak peak.  It re-opens on July 14th and I can't wait to take my kids.  The new range looks amazing.  The entire range appears to be turf, which may or many not help your game, but it looks really nice.  The tee boxes look state of the art and the club house looks like something you'll see on a newer course.  Can't wait to experience it!\"\r\n"
     ]
    }
   ],
   "source": [
    "!head yelp_review_polarity_csv/train.csv"
   ]
  },
  {
   "cell_type": "code",
   "execution_count": 4,
   "metadata": {
    "colab": {
     "base_uri": "https://localhost:8080/"
    },
    "executionInfo": {
     "elapsed": 672,
     "status": "ok",
     "timestamp": 1684565815571,
     "user": {
      "displayName": "Andrey Sozykin",
      "userId": "18170979864079203851"
     },
     "user_tz": -180
    },
    "id": "QbfciZAYHNBb",
    "outputId": "a4fca2bc-9405-4b82-8938-7d1449b65037"
   },
   "outputs": [
    {
     "name": "stdout",
     "output_type": "stream",
     "text": [
      "\"2\",\"Contrary to other reviews, I have zero complaints about the service or the prices. I have been getting tire service here for the past 5 years now, and compared to my experience with places like Pep Boys, these guys are experienced and know what they're doing. \\nAlso, this is one place that I do not feel like I am being taken advantage of, just because of my gender. Other auto mechanics have been notorious for capitalizing on my ignorance of cars, and have sucked my bank account dry. But here, my service and road coverage has all been well explained - and let up to me to decide. \\nAnd they just renovated the waiting room. It looks a lot better than it did in previous years.\"\r\n",
      "\"1\",\"Last summer I had an appointment to get new tires and had to wait a super long time. I also went in this week for them to fix a minor problem with a tire they put on. They \\\"\"fixed\\\"\" it for free, and the very next morning I had the same issue. I called to complain, and the \\\"\"manager\\\"\" didn't even apologize!!! So frustrated. Never going back.  They seem overpriced, too.\"\r\n",
      "\"2\",\"Friendly staff, same starbucks fair you get anywhere else.  Sometimes the lines can get long.\"\r\n",
      "\"1\",\"The food is good. Unfortunately the service is very hit or miss. The main issue seems to be with the kitchen, the waiters and waitresses are often very apologetic for the long waits and it's pretty obvious that some of them avoid the tables after taking the initial order to avoid hearing complaints.\"\r\n",
      "\"2\",\"Even when we didn't have a car Filene's Basement was worth the bus trip to the Waterfront. I always find something (usually I find 3-4 things and spend about $60) and better still, I am always still wearing the clothes and shoes 3 months later. \\n\\nI kind of suspect this is the best shopping in Pittsburgh; it's much better than the usual department stores, better than Marshall's and TJ Maxx and better than the Saks downtown, even when it has a sale. Selection, bargains AND quality.\\n\\nI like this Filene's better than Gabriel Brothers, which are harder to get to. Gabriel Brothers are a real discount shopper's challenge and I'm afraid I didn't live in Pittsburgh long enough to develop the necessary skills . . . Filene's was still up and running in June 2007 when I left town.\"\r\n",
      "\"2\",\"Picture Billy Joel's \\\"\"Piano Man\\\"\" DOUBLED mixed with beer, a rowdy crowd, and comedy - Welcome to Sing Sing!  A unique musical experience found in Homestead.\\n\\nIf you're looking to grab a bite to eat or a beer, come on in!  Serving food and brews from Rock Bottom Brewery, Sing Sing keeps your tummy full while you listen to two (or more) amazingly talented pianists take your musical requests.  They'll play anything you'd like, for tips of course.  Wanting to hear Britney Spears?  Toto?  Duran Duran?  Yep, they play that... new or old.\\n\\nThe crowd makes the show, so make sure you come ready for a good time.  If the crowd is dead, it's harder for the Guys to get a reaction.  If you're wanting to have some fun, it can be a GREAT time!  It's the perfect place for Birthday parties - especially if you want to embarrass a friend.  The guys will bring them up to the pianos and perform a little ditty.  For being a good sport, you get the coveted Sing Sing bumper sticker.  Now who wouldn't want that?\\n\\nDueling Pianos and brews... time to Shut Up & Sing Sing!\"\r\n",
      "\"1\",\"Mediocre service. COLD food! Our food waited so long the lettuce & pickles wilted. Bland food. Crazy overpriced. Long waits in the arcade. 1 beer per hour maximum.  Avoid at all costs. Fair manager.\"\r\n",
      "\"1\",\"Ok! Let me tell you about my bad experience first. I went to D&B last night for a post wedding party - which, side note, is a great idea!\\n\\nIt was around midnight and the bar wasn't really populated. There were three bartenders and only one was actually making rounds to see if anyone needed anything. The two other bartenders were chatting on the far side of the bar that no one was sitting at. Kind of counter productive if you ask me. \\n\\nI stood there for about 5 minutes, which for a busy bar is fine but when I am the only one with my card out then, it just seems a little ridiculous. I made eye contact with the one girl twice and gave her a smile and she literally turned away. I finally had to walk to them to get their attention.  I was standing right in front of them smiling and they didn't ask if i need anything. I finally said, \\\"\"Are you working?\\\"\" and they gave each other a weird look. I felt like i was the crazy one. I asked for a beer/got the beer.\\n\\nIn between that time, the other bartender brought food over and set it down. She took a fry from the plate (right in front of me) and then served it to someone on the other side of the bar. What the hell! I felt like i was in some grimy bar in out in the sticks - not an established D&B. \\n\\nI was just really turned off from that experience. \\n\\nThe good is that D&B provides a different type of entertainment when you want to mix things up. I remember going here with my grandparents when I was a kid and it was the best treat ever! We would eat at the restaurant and then spend hours playing games. This place holds some really good memories for me. \\n\\nIt's a shame that my experience last night has spoiled the high standards I held for it.\"\r\n",
      "\"1\",\"I used to love D&B when it first opened in the Waterfront, but it has gone down hill over the years. The games are not as fun and do not give you as many tickets and the prizes have gotten cheaper in quality. It takes a whole heck of a lot of tickets for you to even get a pencil! The atmosphere is okay but it used to be so much better with the funnest games and diverse groups of people! Now, it is run down and many of the games are app related games (Fruit Ninja) and 3D Experience rides. With such \\\"\"games\\\"\", you can't even earn tickets and they take a lot of tokens! Last time I went, back in the winter, many of the games were broken, which made for a negative player experience. I would go to D&B to play some games again in the future, but it is no longer one of my favorite places to go due to the decline of fun games where you can earn tickets.\"\r\n",
      "\"2\",\"Like any Barnes & Noble, it has a nice comfy cafe, and a large selection of books.  The staff is very friendly and helpful.  They stock a decent selection, and the prices are pretty reasonable.  Obviously it's hard for them to compete with Amazon.  However since all the small shop bookstores are gone, it's nice to walk into one every once in a while.\"\r\n"
     ]
    }
   ],
   "source": [
    "!head yelp_review_polarity_csv/test.csv"
   ]
  },
  {
   "cell_type": "code",
   "execution_count": 5,
   "metadata": {
    "colab": {
     "base_uri": "https://localhost:8080/"
    },
    "executionInfo": {
     "elapsed": 5,
     "status": "ok",
     "timestamp": 1684565815571,
     "user": {
      "displayName": "Andrey Sozykin",
      "userId": "18170979864079203851"
     },
     "user_tz": -180
    },
    "id": "QHiCXhsTG835",
    "outputId": "11030dad-4645-4b5b-8369-fc105184478e"
   },
   "outputs": [
    {
     "name": "stdout",
     "output_type": "stream",
     "text": [
      "560000 yelp_review_polarity_csv/train.csv\n",
      "38000 yelp_review_polarity_csv/test.csv\n"
     ]
    }
   ],
   "source": [
    "!wc -l yelp_review_polarity_csv/train.csv\n",
    "!wc -l yelp_review_polarity_csv/test.csv"
   ]
  },
  {
   "cell_type": "markdown",
   "metadata": {
    "id": "9YjyMnJOHoSY"
   },
   "source": [
    "## Загружаем данные в память"
   ]
  },
  {
   "cell_type": "markdown",
   "metadata": {
    "id": "C6Hs3NIKKqEB"
   },
   "source": [
    "Читаем данные из файла"
   ]
  },
  {
   "cell_type": "code",
   "execution_count": 6,
   "metadata": {
    "id": "viAteYU0HakW",
    "scrolled": true
   },
   "outputs": [],
   "source": [
    "train = pd.read_csv('yelp_review_polarity_csv/train.csv',\n",
    "                    header=None,\n",
    "                    names=['Class', 'Review'])"
   ]
  },
  {
   "cell_type": "code",
   "execution_count": 7,
   "metadata": {
    "colab": {
     "base_uri": "https://localhost:8080/",
     "height": 423
    },
    "executionInfo": {
     "elapsed": 241,
     "status": "ok",
     "timestamp": 1685185743172,
     "user": {
      "displayName": "Andrey Sozykin",
      "userId": "18170979864079203851"
     },
     "user_tz": -180
    },
    "id": "QTbvoCJxKpdr",
    "outputId": "3052a5da-b41a-4302-dbda-7bede8e907d1"
   },
   "outputs": [
    {
     "data": {
      "text/html": [
       "<div>\n",
       "<style scoped>\n",
       "    .dataframe tbody tr th:only-of-type {\n",
       "        vertical-align: middle;\n",
       "    }\n",
       "\n",
       "    .dataframe tbody tr th {\n",
       "        vertical-align: top;\n",
       "    }\n",
       "\n",
       "    .dataframe thead th {\n",
       "        text-align: right;\n",
       "    }\n",
       "</style>\n",
       "<table border=\"1\" class=\"dataframe\">\n",
       "  <thead>\n",
       "    <tr style=\"text-align: right;\">\n",
       "      <th></th>\n",
       "      <th>Class</th>\n",
       "      <th>Review</th>\n",
       "    </tr>\n",
       "  </thead>\n",
       "  <tbody>\n",
       "    <tr>\n",
       "      <th>0</th>\n",
       "      <td>1</td>\n",
       "      <td>Unfortunately, the frustration of being Dr. Go...</td>\n",
       "    </tr>\n",
       "    <tr>\n",
       "      <th>1</th>\n",
       "      <td>2</td>\n",
       "      <td>Been going to Dr. Goldberg for over 10 years. ...</td>\n",
       "    </tr>\n",
       "    <tr>\n",
       "      <th>2</th>\n",
       "      <td>1</td>\n",
       "      <td>I don't know what Dr. Goldberg was like before...</td>\n",
       "    </tr>\n",
       "    <tr>\n",
       "      <th>3</th>\n",
       "      <td>1</td>\n",
       "      <td>I'm writing this review to give you a heads up...</td>\n",
       "    </tr>\n",
       "    <tr>\n",
       "      <th>4</th>\n",
       "      <td>2</td>\n",
       "      <td>All the food is great here. But the best thing...</td>\n",
       "    </tr>\n",
       "    <tr>\n",
       "      <th>...</th>\n",
       "      <td>...</td>\n",
       "      <td>...</td>\n",
       "    </tr>\n",
       "    <tr>\n",
       "      <th>559995</th>\n",
       "      <td>2</td>\n",
       "      <td>Ryan was as good as everyone on yelp has claim...</td>\n",
       "    </tr>\n",
       "    <tr>\n",
       "      <th>559996</th>\n",
       "      <td>2</td>\n",
       "      <td>Professional \\nFriendly\\nOn time AND affordabl...</td>\n",
       "    </tr>\n",
       "    <tr>\n",
       "      <th>559997</th>\n",
       "      <td>1</td>\n",
       "      <td>Phone calls always go to voicemail and message...</td>\n",
       "    </tr>\n",
       "    <tr>\n",
       "      <th>559998</th>\n",
       "      <td>1</td>\n",
       "      <td>Looks like all of the good reviews have gone t...</td>\n",
       "    </tr>\n",
       "    <tr>\n",
       "      <th>559999</th>\n",
       "      <td>2</td>\n",
       "      <td>Ryan Rocks! I called him this morning for some...</td>\n",
       "    </tr>\n",
       "  </tbody>\n",
       "</table>\n",
       "<p>560000 rows × 2 columns</p>\n",
       "</div>"
      ],
      "text/plain": [
       "        Class                                             Review\n",
       "0           1  Unfortunately, the frustration of being Dr. Go...\n",
       "1           2  Been going to Dr. Goldberg for over 10 years. ...\n",
       "2           1  I don't know what Dr. Goldberg was like before...\n",
       "3           1  I'm writing this review to give you a heads up...\n",
       "4           2  All the food is great here. But the best thing...\n",
       "...       ...                                                ...\n",
       "559995      2  Ryan was as good as everyone on yelp has claim...\n",
       "559996      2  Professional \\nFriendly\\nOn time AND affordabl...\n",
       "559997      1  Phone calls always go to voicemail and message...\n",
       "559998      1  Looks like all of the good reviews have gone t...\n",
       "559999      2  Ryan Rocks! I called him this morning for some...\n",
       "\n",
       "[560000 rows x 2 columns]"
      ]
     },
     "execution_count": 7,
     "metadata": {},
     "output_type": "execute_result"
    }
   ],
   "source": [
    "train"
   ]
  },
  {
   "cell_type": "markdown",
   "metadata": {
    "id": "gA0GvoWDKulp"
   },
   "source": [
    "Выделяем данные для обучения"
   ]
  },
  {
   "cell_type": "code",
   "execution_count": 8,
   "metadata": {
    "id": "xKdpzAQKLUsh"
   },
   "outputs": [],
   "source": [
    "reviews = train['Review']"
   ]
  },
  {
   "cell_type": "code",
   "execution_count": 9,
   "metadata": {
    "colab": {
     "base_uri": "https://localhost:8080/"
    },
    "executionInfo": {
     "elapsed": 2,
     "status": "ok",
     "timestamp": 1685185749057,
     "user": {
      "displayName": "Andrey Sozykin",
      "userId": "18170979864079203851"
     },
     "user_tz": -180
    },
    "id": "3-13xctTLesU",
    "outputId": "726f43be-b498-4620-9cd9-d2c27fd09057"
   },
   "outputs": [
    {
     "data": {
      "text/plain": [
       "0    Unfortunately, the frustration of being Dr. Go...\n",
       "1    Been going to Dr. Goldberg for over 10 years. ...\n",
       "2    I don't know what Dr. Goldberg was like before...\n",
       "3    I'm writing this review to give you a heads up...\n",
       "4    All the food is great here. But the best thing...\n",
       "Name: Review, dtype: object"
      ]
     },
     "execution_count": 9,
     "metadata": {},
     "output_type": "execute_result"
    }
   ],
   "source": [
    "reviews[:5]"
   ]
  },
  {
   "cell_type": "markdown",
   "metadata": {
    "id": "EyruZkQeLnPa"
   },
   "source": [
    "Выделяем правильные ответы"
   ]
  },
  {
   "cell_type": "code",
   "execution_count": 10,
   "metadata": {
    "id": "5t_vJBSyIUoG"
   },
   "outputs": [],
   "source": [
    "y_train = train['Class'] - 1"
   ]
  },
  {
   "cell_type": "code",
   "execution_count": 11,
   "metadata": {
    "colab": {
     "base_uri": "https://localhost:8080/"
    },
    "executionInfo": {
     "elapsed": 1,
     "status": "ok",
     "timestamp": 1685185753145,
     "user": {
      "displayName": "Andrey Sozykin",
      "userId": "18170979864079203851"
     },
     "user_tz": -180
    },
    "id": "gmEgMdF5IbZR",
    "outputId": "52d5af69-28cb-454c-8554-92f003121821"
   },
   "outputs": [
    {
     "data": {
      "text/plain": [
       "0         0\n",
       "1         1\n",
       "2         0\n",
       "3         0\n",
       "4         1\n",
       "         ..\n",
       "559995    1\n",
       "559996    1\n",
       "559997    0\n",
       "559998    0\n",
       "559999    1\n",
       "Name: Class, Length: 560000, dtype: int64"
      ]
     },
     "execution_count": 11,
     "metadata": {},
     "output_type": "execute_result"
    }
   ],
   "source": [
    "y_train"
   ]
  },
  {
   "cell_type": "markdown",
   "metadata": {
    "id": "7JuLOCqpLsNL"
   },
   "source": [
    "## Токенизация текста"
   ]
  },
  {
   "cell_type": "code",
   "execution_count": 12,
   "metadata": {
    "colab": {
     "base_uri": "https://localhost:8080/"
    },
    "executionInfo": {
     "elapsed": 239,
     "status": "ok",
     "timestamp": 1685185756280,
     "user": {
      "displayName": "Andrey Sozykin",
      "userId": "18170979864079203851"
     },
     "user_tz": -180
    },
    "id": "wwF89PAestv0",
    "outputId": "9b31e381-3aa5-4d22-b07c-fa81b89e2fd1"
   },
   "outputs": [
    {
     "data": {
      "text/plain": [
       "0    Unfortunately, the frustration of being Dr. Go...\n",
       "1    Been going to Dr. Goldberg for over 10 years. ...\n",
       "2    I don't know what Dr. Goldberg was like before...\n",
       "3    I'm writing this review to give you a heads up...\n",
       "4    All the food is great here. But the best thing...\n",
       "Name: Review, dtype: object"
      ]
     },
     "execution_count": 12,
     "metadata": {},
     "output_type": "execute_result"
    }
   ],
   "source": [
    "reviews[:5]"
   ]
  },
  {
   "cell_type": "markdown",
   "metadata": {
    "id": "DTtBSvAfMusM"
   },
   "source": [
    "Создаем токенизатор Keras"
   ]
  },
  {
   "cell_type": "code",
   "execution_count": 13,
   "metadata": {
    "id": "x-AUMyjMLw5T"
   },
   "outputs": [],
   "source": [
    "tokenizer = Tokenizer(num_words=num_words)"
   ]
  },
  {
   "cell_type": "markdown",
   "metadata": {
    "id": "VIxY2pp-M2gw"
   },
   "source": [
    "Обучаем токенизатор на отзывах Yelp"
   ]
  },
  {
   "cell_type": "code",
   "execution_count": null,
   "metadata": {
    "id": "RfsqlGJZM7HR"
   },
   "outputs": [],
   "source": [
    "tokenizer.fit_on_texts(reviews)"
   ]
  },
  {
   "cell_type": "markdown",
   "metadata": {
    "id": "y6PqC28PND82"
   },
   "source": [
    "Просматриваем словарь токенизатора"
   ]
  },
  {
   "cell_type": "code",
   "execution_count": null,
   "metadata": {
    "colab": {
     "base_uri": "https://localhost:8080/"
    },
    "executionInfo": {
     "elapsed": 315,
     "status": "ok",
     "timestamp": 1685185814424,
     "user": {
      "displayName": "Andrey Sozykin",
      "userId": "18170979864079203851"
     },
     "user_tz": -180
    },
    "id": "8mWcH0mUMcMU",
    "outputId": "efa8f3bb-80f7-4d4c-b39c-c995edf6fda1"
   },
   "outputs": [],
   "source": [
    "tokenizer.word_index"
   ]
  },
  {
   "cell_type": "markdown",
   "metadata": {
    "id": "s_nyPsVLNW-f"
   },
   "source": [
    "Преобразуем отзывы Yelp в числовое представление"
   ]
  },
  {
   "cell_type": "code",
   "execution_count": null,
   "metadata": {
    "id": "bMZ6e-zEJHr1"
   },
   "outputs": [],
   "source": [
    "sequences = tokenizer.texts_to_sequences(reviews)"
   ]
  },
  {
   "cell_type": "markdown",
   "metadata": {
    "id": "aZ_NJ2SlNwMI"
   },
   "source": [
    "Просматриваем отзывы в числовом представлении"
   ]
  },
  {
   "cell_type": "code",
   "execution_count": null,
   "metadata": {
    "colab": {
     "base_uri": "https://localhost:8080/"
    },
    "executionInfo": {
     "elapsed": 213,
     "status": "ok",
     "timestamp": 1685185876317,
     "user": {
      "displayName": "Andrey Sozykin",
      "userId": "18170979864079203851"
     },
     "user_tz": -180
    },
    "id": "xIUJvjguN0S0",
    "outputId": "e69fc5d5-16e3-48f8-ae21-1729c2294015"
   },
   "outputs": [],
   "source": [
    "index = 100\n",
    "print(reviews[index])\n",
    "print(sequences[index])"
   ]
  },
  {
   "cell_type": "code",
   "execution_count": null,
   "metadata": {
    "colab": {
     "base_uri": "https://localhost:8080/"
    },
    "executionInfo": {
     "elapsed": 306,
     "status": "ok",
     "timestamp": 1685185878056,
     "user": {
      "displayName": "Andrey Sozykin",
      "userId": "18170979864079203851"
     },
     "user_tz": -180
    },
    "id": "sQn0O5kBtmyJ",
    "outputId": "3b3f51ab-71ce-4e77-ba44-bb0e78d2536b"
   },
   "outputs": [],
   "source": [
    "tokenizer.word_index['in']"
   ]
  },
  {
   "cell_type": "markdown",
   "metadata": {
    "id": "neSZfrw3OYPx"
   },
   "source": [
    "Ограничиваем длину отзывов"
   ]
  },
  {
   "cell_type": "code",
   "execution_count": null,
   "metadata": {
    "id": "ZGLpcETkN3ex"
   },
   "outputs": [],
   "source": [
    "x_train = pad_sequences(sequences, maxlen=max_review_len)"
   ]
  },
  {
   "cell_type": "code",
   "execution_count": null,
   "metadata": {
    "colab": {
     "base_uri": "https://localhost:8080/"
    },
    "executionInfo": {
     "elapsed": 218,
     "status": "ok",
     "timestamp": 1685185885459,
     "user": {
      "displayName": "Andrey Sozykin",
      "userId": "18170979864079203851"
     },
     "user_tz": -180
    },
    "id": "mPW1VACmOrrm",
    "outputId": "3b76b0d5-f157-4bb4-825b-017ead1701fd"
   },
   "outputs": [],
   "source": [
    "x_train[:5]"
   ]
  },
  {
   "cell_type": "markdown",
   "metadata": {
    "id": "ypBYfEwvO0c4"
   },
   "source": [
    "## Создаем нейронную сеть"
   ]
  },
  {
   "cell_type": "code",
   "execution_count": null,
   "metadata": {
    "id": "8ETORhRkOtIn"
   },
   "outputs": [],
   "source": [
    "model = Sequential()\n",
    "model.add(Embedding(num_words, 64, input_length=max_review_len))\n",
    "model.add(Conv1D(250, 5, padding='valid', activation='relu'))\n",
    "model.add(GlobalMaxPooling1D())\n",
    "model.add(Dense(128, activation='relu'))\n",
    "model.add(Dropout(0.2))\n",
    "model.add(Dense(1, activation='sigmoid'))"
   ]
  },
  {
   "cell_type": "code",
   "execution_count": null,
   "metadata": {
    "id": "rzds0iUgPLwS"
   },
   "outputs": [],
   "source": [
    "model.compile(optimizer='adam',\n",
    "              loss='binary_crossentropy',\n",
    "              metrics=['accuracy'])"
   ]
  },
  {
   "cell_type": "code",
   "execution_count": null,
   "metadata": {
    "colab": {
     "base_uri": "https://localhost:8080/"
    },
    "executionInfo": {
     "elapsed": 219,
     "status": "ok",
     "timestamp": 1685186041567,
     "user": {
      "displayName": "Andrey Sozykin",
      "userId": "18170979864079203851"
     },
     "user_tz": -180
    },
    "id": "QpWLAkRtaxZf",
    "outputId": "eeb3dff7-3b80-46e2-c3c9-68640540ad3d"
   },
   "outputs": [],
   "source": [
    "model.summary()"
   ]
  },
  {
   "cell_type": "markdown",
   "metadata": {
    "id": "qf4f6-skPPsb"
   },
   "source": [
    "## Обучаем нейронную сеть"
   ]
  },
  {
   "cell_type": "code",
   "execution_count": null,
   "metadata": {
    "colab": {
     "base_uri": "https://localhost:8080/"
    },
    "executionInfo": {
     "elapsed": 263060,
     "status": "ok",
     "timestamp": 1685186307966,
     "user": {
      "displayName": "Andrey Sozykin",
      "userId": "18170979864079203851"
     },
     "user_tz": -180
    },
    "id": "3RjBsU8_PSqp",
    "outputId": "40832001-d74a-4df8-b350-3423d99fabb6"
   },
   "outputs": [],
   "source": [
    "history = model.fit(x_train,\n",
    "                    y_train,\n",
    "                    epochs=4,\n",
    "                    batch_size=128,\n",
    "                    validation_split=0.1)"
   ]
  },
  {
   "cell_type": "code",
   "execution_count": null,
   "metadata": {
    "colab": {
     "base_uri": "https://localhost:8080/",
     "height": 449
    },
    "executionInfo": {
     "elapsed": 822,
     "status": "ok",
     "timestamp": 1685186308779,
     "user": {
      "displayName": "Andrey Sozykin",
      "userId": "18170979864079203851"
     },
     "user_tz": -180
    },
    "id": "D87iUZmNP0rk",
    "outputId": "37c3db63-a961-4656-ef2a-040cc1fe708f"
   },
   "outputs": [],
   "source": [
    "plt.plot(history.history['accuracy'],\n",
    "         label='Доля верных ответов на обучающем наборе')\n",
    "plt.plot(history.history['val_accuracy'],\n",
    "         label='Доля верных ответов на проверочном наборе')\n",
    "plt.xlabel('Эпоха обучения')\n",
    "plt.ylabel('Доля верных ответов')\n",
    "plt.legend()\n",
    "plt.show()"
   ]
  },
  {
   "cell_type": "markdown",
   "metadata": {
    "id": "Ma51nugyR5Ct"
   },
   "source": [
    "## Загружаем набор данных для тестирования"
   ]
  },
  {
   "cell_type": "code",
   "execution_count": null,
   "metadata": {
    "id": "0OQ9iHYWYJ7G"
   },
   "outputs": [],
   "source": [
    "test = pd.read_csv('yelp_review_polarity_csv/test.csv',\n",
    "                    header=None,\n",
    "                    names=['Class', 'Review'])"
   ]
  },
  {
   "cell_type": "code",
   "execution_count": null,
   "metadata": {
    "colab": {
     "base_uri": "https://localhost:8080/"
    },
    "executionInfo": {
     "elapsed": 4,
     "status": "ok",
     "timestamp": 1684566170047,
     "user": {
      "displayName": "Andrey Sozykin",
      "userId": "18170979864079203851"
     },
     "user_tz": -180
    },
    "id": "4W8Exe9nYYC6",
    "outputId": "da49ddb0-652a-4b31-df01-bedbd8ca2e64"
   },
   "outputs": [],
   "source": [
    "test"
   ]
  },
  {
   "cell_type": "markdown",
   "metadata": {
    "id": "xgEjSpX5biaJ"
   },
   "source": [
    "Преобразуем отзывы в числовое представление\n",
    "\n",
    "Обратите внимание, что нужно использовать токенизатор, обученный на наборе данных train."
   ]
  },
  {
   "cell_type": "code",
   "execution_count": null,
   "metadata": {
    "id": "wE8JtIgybvLx"
   },
   "outputs": [],
   "source": [
    "test_sequences = tokenizer.texts_to_sequences(test['Review'])"
   ]
  },
  {
   "cell_type": "code",
   "execution_count": null,
   "metadata": {
    "id": "haKQPtc-byBf"
   },
   "outputs": [],
   "source": [
    "x_test = pad_sequences(test_sequences, maxlen=max_review_len)"
   ]
  },
  {
   "cell_type": "code",
   "execution_count": null,
   "metadata": {
    "colab": {
     "base_uri": "https://localhost:8080/"
    },
    "executionInfo": {
     "elapsed": 246,
     "status": "ok",
     "timestamp": 1685186348853,
     "user": {
      "displayName": "Andrey Sozykin",
      "userId": "18170979864079203851"
     },
     "user_tz": -180
    },
    "id": "LQsqVZedb-Qf",
    "outputId": "e26accb8-9e9f-4cea-d975-094cd9b5aabf"
   },
   "outputs": [],
   "source": [
    "x_test[:5]"
   ]
  },
  {
   "cell_type": "markdown",
   "metadata": {
    "id": "afswW4zVcPfT"
   },
   "source": [
    "Правильные ответы"
   ]
  },
  {
   "cell_type": "code",
   "execution_count": null,
   "metadata": {
    "id": "tsdQdcvBcFsv"
   },
   "outputs": [],
   "source": [
    "y_test = test['Class'] - 1"
   ]
  },
  {
   "cell_type": "code",
   "execution_count": null,
   "metadata": {
    "colab": {
     "base_uri": "https://localhost:8080/"
    },
    "executionInfo": {
     "elapsed": 2,
     "status": "ok",
     "timestamp": 1685186354809,
     "user": {
      "displayName": "Andrey Sozykin",
      "userId": "18170979864079203851"
     },
     "user_tz": -180
    },
    "id": "86TiWSg8cYkI",
    "outputId": "36dd794b-b544-4ee5-8f52-e1140238c0f2"
   },
   "outputs": [],
   "source": [
    "y_test"
   ]
  },
  {
   "cell_type": "markdown",
   "metadata": {
    "id": "3DJbzO3ucewV"
   },
   "source": [
    "## Оцениваем качество работы сети на тестовом наборе данных"
   ]
  },
  {
   "cell_type": "code",
   "execution_count": null,
   "metadata": {
    "colab": {
     "base_uri": "https://localhost:8080/"
    },
    "executionInfo": {
     "elapsed": 3848,
     "status": "ok",
     "timestamp": 1685186360392,
     "user": {
      "displayName": "Andrey Sozykin",
      "userId": "18170979864079203851"
     },
     "user_tz": -180
    },
    "id": "MkFvNfFPcaPX",
    "outputId": "a2d3bc67-5b6e-40ca-d85b-138f7bb7120a"
   },
   "outputs": [],
   "source": [
    "model.evaluate(x_test, y_test, verbose=1)"
   ]
  },
  {
   "cell_type": "markdown",
   "metadata": {
    "id": "_rpc1SbSdZJi"
   },
   "source": [
    "## Оцениваем тональность на собственном отзыве"
   ]
  },
  {
   "cell_type": "code",
   "execution_count": null,
   "metadata": {
    "id": "E7mb_GYadd_a"
   },
   "outputs": [],
   "source": [
    "text = '''The SmartBurger restaurant is awful. It’s a small shabby place.\n",
    "The food is really bad and very expensive.  The host and waiters are rud.\n",
    "I will never visit the SmartBurger again!\n",
    "'''"
   ]
  },
  {
   "cell_type": "code",
   "execution_count": null,
   "metadata": {
    "id": "g_YUdpNWcv8x"
   },
   "outputs": [],
   "source": [
    "sequence = tokenizer.texts_to_sequences([text])"
   ]
  },
  {
   "cell_type": "code",
   "execution_count": null,
   "metadata": {
    "colab": {
     "base_uri": "https://localhost:8080/"
    },
    "executionInfo": {
     "elapsed": 19,
     "status": "ok",
     "timestamp": 1684566177818,
     "user": {
      "displayName": "Andrey Sozykin",
      "userId": "18170979864079203851"
     },
     "user_tz": -180
    },
    "id": "wyYO190ffF4n",
    "outputId": "8fd850d9-dcc6-499e-e91c-242cfe1b33c1"
   },
   "outputs": [],
   "source": [
    "sequence"
   ]
  },
  {
   "cell_type": "code",
   "execution_count": null,
   "metadata": {
    "id": "uKWdH2qKfIdG"
   },
   "outputs": [],
   "source": [
    "data = pad_sequences(sequence, maxlen=max_review_len)"
   ]
  },
  {
   "cell_type": "code",
   "execution_count": null,
   "metadata": {
    "colab": {
     "base_uri": "https://localhost:8080/"
    },
    "executionInfo": {
     "elapsed": 17,
     "status": "ok",
     "timestamp": 1684566177819,
     "user": {
      "displayName": "Andrey Sozykin",
      "userId": "18170979864079203851"
     },
     "user_tz": -180
    },
    "id": "skYUSk6CfeHs",
    "outputId": "c2d9c068-0838-4b44-99b6-19283b88aaa3"
   },
   "outputs": [],
   "source": [
    "data"
   ]
  },
  {
   "cell_type": "code",
   "execution_count": null,
   "metadata": {
    "colab": {
     "base_uri": "https://localhost:8080/"
    },
    "executionInfo": {
     "elapsed": 15,
     "status": "ok",
     "timestamp": 1684566177819,
     "user": {
      "displayName": "Andrey Sozykin",
      "userId": "18170979864079203851"
     },
     "user_tz": -180
    },
    "id": "K_VBdXOlffK2",
    "outputId": "a4eb9b03-9720-412e-de01-5d167d4b72e5"
   },
   "outputs": [],
   "source": [
    "result = model.predict(data)"
   ]
  },
  {
   "cell_type": "code",
   "execution_count": null,
   "metadata": {
    "colab": {
     "base_uri": "https://localhost:8080/"
    },
    "executionInfo": {
     "elapsed": 13,
     "status": "ok",
     "timestamp": 1684566177819,
     "user": {
      "displayName": "Andrey Sozykin",
      "userId": "18170979864079203851"
     },
     "user_tz": -180
    },
    "id": "yFC6W_dLfpzU",
    "outputId": "682679ec-f198-4e77-9b1f-b8a73736d375"
   },
   "outputs": [],
   "source": [
    "result"
   ]
  },
  {
   "cell_type": "code",
   "execution_count": null,
   "metadata": {
    "colab": {
     "base_uri": "https://localhost:8080/"
    },
    "executionInfo": {
     "elapsed": 12,
     "status": "ok",
     "timestamp": 1684566177819,
     "user": {
      "displayName": "Andrey Sozykin",
      "userId": "18170979864079203851"
     },
     "user_tz": -180
    },
    "id": "TbLvIXs6frqY",
    "outputId": "c33e7db9-5add-4350-b6eb-aa942521e0ff"
   },
   "outputs": [],
   "source": [
    "if result < 0.5:\n",
    "    print('Отзыв отрицательный')\n",
    "else:\n",
    "    print('Отзыв положительный')\n"
   ]
  },
  {
   "cell_type": "markdown",
   "metadata": {
    "id": "5lkKDy7_ung1"
   },
   "source": [
    "## Задания для самостоятельной работы\n",
    "\n",
    "Меняйте гиперпараметры нейросети, чтобы повысить качество работы:\n",
    "  - Длину окна свертки (поробуйте 3, 5, 7 и 9).\n",
    "  - Количество карт признаков в сверточном слое.\n",
    "  - Длину вектора представления слов в слое Embedding.\n",
    "  - Количество сверточных слоев.\n",
    "  - Количествой нейронов в полносвязном слое для классификации.\n",
    "  - Параметр Dropout\n",
    "  - Тип оптимизатора (`adam`, `rmsprop` и др.)\n",
    "  - Количество эпох обучения.\n",
    "  - Рармер мини-выборки.\n",
    "\n"
   ]
  }
 ],
 "metadata": {
  "accelerator": "GPU",
  "colab": {
   "provenance": [
    {
     "file_id": "1KWS-4MKKOIG7UhiCA58ZJcxwSLG5F6Wm",
     "timestamp": 1692555201051
    },
    {
     "file_id": "19olgYyZ4N5fh8RIPtHxkso2N5HD1yg0X",
     "timestamp": 1579338582121
    }
   ]
  },
  "kernelspec": {
   "display_name": "Python 3 (ipykernel)",
   "language": "python",
   "name": "python3"
  },
  "language_info": {
   "codemirror_mode": {
    "name": "ipython",
    "version": 3
   },
   "file_extension": ".py",
   "mimetype": "text/x-python",
   "name": "python",
   "nbconvert_exporter": "python",
   "pygments_lexer": "ipython3",
   "version": "3.11.6"
  }
 },
 "nbformat": 4,
 "nbformat_minor": 1
}
